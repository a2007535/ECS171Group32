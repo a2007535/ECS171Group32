{
 "cells": [
  {
   "cell_type": "code",
   "execution_count": 21,
   "metadata": {},
   "outputs": [
    {
     "name": "stdout",
     "output_type": "stream",
     "text": [
      "      Marital status  Application mode  Application order  Course  \\\n",
      "2976               1                 1                  2    9254   \n",
      "\n",
      "      Daytime/evening attendance\\t  Previous qualification  \\\n",
      "2976                             1                       1   \n",
      "\n",
      "      Previous qualification (grade)  Admission grade  Displaced  Debtor  ...  \\\n",
      "2976                           132.0            129.9          1       0  ...   \n",
      "\n",
      "      Curricular units 1st sem (enrolled)  \\\n",
      "2976                                    6   \n",
      "\n",
      "      Curricular units 1st sem (evaluations)  \\\n",
      "2976                                       8   \n",
      "\n",
      "      Curricular units 1st sem (approved)  Curricular units 1st sem (grade)  \\\n",
      "2976                                    6                              13.0   \n",
      "\n",
      "      Curricular units 2nd sem (credited)  \\\n",
      "2976                                    0   \n",
      "\n",
      "      Curricular units 2nd sem (enrolled)  \\\n",
      "2976                                    6   \n",
      "\n",
      "      Curricular units 2nd sem (evaluations)  \\\n",
      "2976                                       6   \n",
      "\n",
      "      Curricular units 2nd sem (approved)  Curricular units 2nd sem (grade)  \\\n",
      "2976                                    6                         12.166667   \n",
      "\n",
      "       GDP  \n",
      "2976  3.51  \n",
      "\n",
      "[1 rows x 25 columns] 2976    Graduate\n",
      "Name: Target, dtype: object\n"
     ]
    }
   ],
   "source": [
    "import pandas as pd\n",
    "dropout_data = pd.read_csv(\"dropout.csv\", delimiter=';')\n",
    "# get 1 raw data from dropout.csv to simulate user input from frontEnd    \n",
    "DataFromFrontEndUser = dropout_data.sample(1)\n",
    "y_test = DataFromFrontEndUser['Target']\n",
    "X_test = DataFromFrontEndUser.drop(columns=['Target'])\n",
    "X_test = X_test.drop(columns=['Nacionality', \n",
    "                    'Mother\\'s qualification', \n",
    "                    'Father\\'s qualification', \n",
    "                    'Mother\\'s occupation',\n",
    "                    'Father\\'s occupation',\n",
    "                    'Educational special needs', \n",
    "                    'International', \n",
    "                    'Curricular units 1st sem (without evaluations)',\n",
    "                    'Curricular units 2nd sem (without evaluations)',\n",
    "                    'Unemployment rate', \n",
    "                    'Inflation rate'], axis=1)\n",
    "# the X_test and y_test would be like \n",
    "print(X_test,y_test)"
   ]
  },
  {
   "cell_type": "code",
   "execution_count": 22,
   "metadata": {},
   "outputs": [
    {
     "name": "stdout",
     "output_type": "stream",
     "text": [
      "[[-0.29482875 -1.01066035  0.20717316  0.19258032  0.35008246 -0.35023049\n",
      "  -0.04650953  0.20178227  0.90751193 -0.358167    0.36813532 -0.73657203\n",
      "   1.73939004 -0.56216796 -0.30081306 -0.10910515 -0.07156661  0.41804989\n",
      "   0.48711996 -0.28244231 -0.105726   -0.52268237  0.51890369  0.37166594\n",
      "   1.54560684]] [2]\n"
     ]
    }
   ],
   "source": [
    "import pickle\n",
    "scaler = pickle.load(open('scaler.pkl','rb'))\n",
    "label_encoder = pickle.load(open('label_encoder.pkl','rb'))\n",
    "X_test = scaler.transform(X_test)\n",
    "y_test = label_encoder.transform(y_test)\n",
    "# the data after transform by scaler and laber_encoder\n",
    "print(X_test,y_test)\n"
   ]
  },
  {
   "cell_type": "code",
   "execution_count": 23,
   "metadata": {},
   "outputs": [
    {
     "name": "stdout",
     "output_type": "stream",
     "text": [
      "Voting Classifier Accuracy : 100.0 %\n"
     ]
    }
   ],
   "source": [
    "from sklearn.metrics import accuracy_score\n",
    "loaded_model = pickle.load(open(\"SMOTE_XGBoost.pkl\", 'rb'))\n",
    "y_pred = loaded_model.predict(X_test)\n",
    "print(\"Voting Classifier Accuracy :\",round(accuracy_score(y_test,y_pred)*100,2),\"%\")"
   ]
  },
  {
   "cell_type": "code",
   "execution_count": null,
   "metadata": {},
   "outputs": [],
   "source": []
  }
 ],
 "metadata": {
  "kernelspec": {
   "display_name": ".venv",
   "language": "python",
   "name": "python3"
  },
  "language_info": {
   "codemirror_mode": {
    "name": "ipython",
    "version": 3
   },
   "file_extension": ".py",
   "mimetype": "text/x-python",
   "name": "python",
   "nbconvert_exporter": "python",
   "pygments_lexer": "ipython3",
   "version": "3.9.6"
  }
 },
 "nbformat": 4,
 "nbformat_minor": 2
}

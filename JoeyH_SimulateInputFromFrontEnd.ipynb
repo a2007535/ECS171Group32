{
 "cells": [
  {
   "cell_type": "code",
   "execution_count": 76,
   "metadata": {},
   "outputs": [],
   "source": [
    "import pandas as pd\n",
    "dropout_data = pd.read_csv(\"dropout.csv\", delimiter=';')\n",
    "# get 1 raw data from dropout.csv to simulate user input from frontEnd    \n",
    "DataFromFrontEndUser = dropout_data.sample(4000)\n",
    "y_test = DataFromFrontEndUser['Target']\n",
    "X_test = DataFromFrontEndUser.drop(columns=['Target'])\n",
    "X_test = X_test.drop(columns=['Nacionality', \n",
    "                    'Mother\\'s qualification', \n",
    "                    'Father\\'s qualification', \n",
    "                    'Mother\\'s occupation',\n",
    "                    'Father\\'s occupation',\n",
    "                    'Educational special needs', \n",
    "                    'International', \n",
    "                    'Curricular units 1st sem (without evaluations)',\n",
    "                    'Curricular units 2nd sem (without evaluations)',\n",
    "                    'Unemployment rate', \n",
    "                    'Inflation rate'], axis=1)\n",
    "# the X_test and y_test would be like \n",
    "# print(X_test,y_test)"
   ]
  },
  {
   "cell_type": "code",
   "execution_count": 77,
   "metadata": {},
   "outputs": [
    {
     "name": "stdout",
     "output_type": "stream",
     "text": [
      "  (0, 0)\t-0.5540677512436588\n",
      "  (0, 1)\t-0.2985576917271264\n",
      "  (0, 2)\t0.8992785454846383\n",
      "  (0, 3)\t0.5601558572210751\n",
      "  (0, 4)\t-0.30081305824983723\n",
      "  (0, 5)\t-0.109105147316254\n",
      "  (0, 6)\t-0.31087931493290694\n",
      "  (0, 7)\t0.4180498886958897\n",
      "  (0, 8)\t0.4576230094150299\n",
      "  (0, 9)\t-0.2824423108896146\n",
      "  (0, 10)\t-0.10572600419086485\n",
      "  (0, 11)\t-0.522682374307949\n",
      "  (0, 12)\t0.518903690034754\n",
      "  (0, 13)\t0.5635964526582474\n",
      "  (0, 14)\t0.7877903830865802\n",
      "  (0, 15)\t1.0\n",
      "  (0, 35)\t1.0\n",
      "  (0, 42)\t1.0\n",
      "  (0, 57)\t1.0\n",
      "  (0, 71)\t1.0\n",
      "  (0, 76)\t1.0\n",
      "  (0, 77)\t1.0\n",
      "  (0, 80)\t1.0\n",
      "  (0, 82)\t1.0\n",
      "  (0, 83)\t1.0\n",
      "  :\t:\n",
      "  (3999, 0)\t0.2071731591606723\n",
      "  (3999, 1)\t-0.6939730878554988\n",
      "  (3999, 2)\t1.5346216913939639\n",
      "  (3999, 3)\t1.015154895557246\n",
      "  (3999, 4)\t-0.30081305824983723\n",
      "  (3999, 5)\t-0.109105147316254\n",
      "  (3999, 6)\t0.646371486711903\n",
      "  (3999, 7)\t-0.22838587068566077\n",
      "  (3999, 8)\t0.3322609765326628\n",
      "  (3999, 9)\t-0.2824423108896146\n",
      "  (3999, 10)\t-0.10572600419086485\n",
      "  (3999, 11)\t0.4906159709761728\n",
      "  (3999, 12)\t-0.4763115952457745\n",
      "  (3999, 13)\t0.27570068454689817\n",
      "  (3999, 14)\t-1.3755112388527264\n",
      "  (3999, 15)\t1.0\n",
      "  (3999, 21)\t1.0\n",
      "  (3999, 53)\t1.0\n",
      "  (3999, 57)\t1.0\n",
      "  (3999, 58)\t1.0\n",
      "  (3999, 76)\t1.0\n",
      "  (3999, 77)\t1.0\n",
      "  (3999, 80)\t1.0\n",
      "  (3999, 81)\t1.0\n",
      "  (3999, 83)\t1.0 [2 0 2 ... 2 2 2]\n"
     ]
    }
   ],
   "source": [
    "import pickle\n",
    "preprocessor = pickle.load(open('preprocessor.pkl','rb'))\n",
    "label_encoder = pickle.load(open('label_encoder.pkl','rb'))\n",
    "X_test = preprocessor.transform(X_test)\n",
    "y_test = label_encoder.transform(y_test)\n",
    "# the data after transform by scaler and laber_encoder\n",
    "print(X_test,y_test)\n"
   ]
  },
  {
   "cell_type": "code",
   "execution_count": 78,
   "metadata": {},
   "outputs": [
    {
     "name": "stdout",
     "output_type": "stream",
     "text": [
      "XGB Classifier Accuracy : 96.15 %\n",
      "Voting Classifier Accuracy : 97.68 %\n",
      "RF Classifier Accuracy : 97.85 %\n"
     ]
    }
   ],
   "source": [
    "from sklearn.metrics import accuracy_score\n",
    "XGB = pickle.load(open(\"SMOTE_XGBoost.pkl\", 'rb'))\n",
    "y_pred = XGB.predict(X_test)\n",
    "print(\"XGB Classifier Accuracy :\",round(accuracy_score(y_test,y_pred)*100,2),\"%\")\n",
    "\n",
    "Voting = pickle.load(open(\"SMOTE_Voting.pkl\", 'rb'))\n",
    "y_pred = Voting.predict(X_test)\n",
    "print(\"Voting Classifier Accuracy :\",round(accuracy_score(y_test,y_pred)*100,2),\"%\")\n",
    "\n",
    "from sklearn.metrics import accuracy_score\n",
    "RF = pickle.load(open(\"SMOTE_RF.pkl\", 'rb'))\n",
    "y_pred = RF.predict(X_test)\n",
    "print(\"RF Classifier Accuracy :\",round(accuracy_score(y_test,y_pred)*100,2),\"%\")"
   ]
  },
  {
   "cell_type": "code",
   "execution_count": null,
   "metadata": {},
   "outputs": [],
   "source": []
  },
  {
   "cell_type": "code",
   "execution_count": null,
   "metadata": {},
   "outputs": [],
   "source": []
  }
 ],
 "metadata": {
  "kernelspec": {
   "display_name": ".venv",
   "language": "python",
   "name": "python3"
  },
  "language_info": {
   "codemirror_mode": {
    "name": "ipython",
    "version": 3
   },
   "file_extension": ".py",
   "mimetype": "text/x-python",
   "name": "python",
   "nbconvert_exporter": "python",
   "pygments_lexer": "ipython3",
   "version": "3.9.6"
  }
 },
 "nbformat": 4,
 "nbformat_minor": 2
}

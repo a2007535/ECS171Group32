{
 "cells": [
  {
   "cell_type": "code",
   "execution_count": 1,
   "metadata": {},
   "outputs": [
    {
     "name": "stdout",
     "output_type": "stream",
     "text": [
      "WARNING:tensorflow:From c:\\Users\\LALA\\AppData\\Local\\Programs\\Python\\Python39\\lib\\site-packages\\keras\\src\\losses.py:2976: The name tf.losses.sparse_softmax_cross_entropy is deprecated. Please use tf.compat.v1.losses.sparse_softmax_cross_entropy instead.\n",
      "\n"
     ]
    }
   ],
   "source": [
    "import numpy as np\n",
    "import pandas as pd\n",
    "from sklearn.model_selection import train_test_split\n",
    "from sklearn.preprocessing import StandardScaler\n",
    "from sklearn.preprocessing import LabelEncoder\n",
    "from sklearn.metrics import accuracy_score, classification_report\n",
    "from keras.models import Sequential\n",
    "from keras.layers import Dense,Dropout\n",
    "from keras.utils import to_categorical"
   ]
  },
  {
   "cell_type": "code",
   "execution_count": 24,
   "metadata": {},
   "outputs": [
    {
     "name": "stdout",
     "output_type": "stream",
     "text": [
      "Epoch 1/100\n",
      "2/2 [==============================] - 1s 6ms/step - loss: 1.0879 - accuracy: 0.3897\n",
      "Epoch 2/100\n",
      "2/2 [==============================] - 0s 7ms/step - loss: 1.0174 - accuracy: 0.5157\n",
      "Epoch 3/100\n",
      "2/2 [==============================] - 0s 7ms/step - loss: 0.9571 - accuracy: 0.6098\n",
      "Epoch 4/100\n",
      "2/2 [==============================] - 0s 7ms/step - loss: 0.9127 - accuracy: 0.6527\n",
      "Epoch 5/100\n",
      "2/2 [==============================] - 0s 7ms/step - loss: 0.8708 - accuracy: 0.6677\n",
      "Epoch 6/100\n",
      "2/2 [==============================] - 0s 8ms/step - loss: 0.8394 - accuracy: 0.6799\n",
      "Epoch 7/100\n",
      "2/2 [==============================] - 0s 6ms/step - loss: 0.8014 - accuracy: 0.6931\n",
      "Epoch 8/100\n",
      "2/2 [==============================] - 0s 6ms/step - loss: 0.7808 - accuracy: 0.6920\n",
      "Epoch 9/100\n",
      "2/2 [==============================] - 0s 7ms/step - loss: 0.7589 - accuracy: 0.7016\n",
      "Epoch 10/100\n",
      "2/2 [==============================] - 0s 8ms/step - loss: 0.7446 - accuracy: 0.6996\n",
      "Epoch 11/100\n",
      "2/2 [==============================] - 0s 8ms/step - loss: 0.7153 - accuracy: 0.7075\n",
      "Epoch 12/100\n",
      "2/2 [==============================] - 0s 6ms/step - loss: 0.7019 - accuracy: 0.7123\n",
      "Epoch 13/100\n",
      "2/2 [==============================] - 0s 7ms/step - loss: 0.6857 - accuracy: 0.7203\n",
      "Epoch 14/100\n",
      "2/2 [==============================] - 0s 6ms/step - loss: 0.6790 - accuracy: 0.7205\n",
      "Epoch 15/100\n",
      "2/2 [==============================] - 0s 8ms/step - loss: 0.6649 - accuracy: 0.7290\n",
      "Epoch 16/100\n",
      "2/2 [==============================] - 0s 8ms/step - loss: 0.6648 - accuracy: 0.7296\n",
      "Epoch 17/100\n",
      "2/2 [==============================] - 0s 7ms/step - loss: 0.6568 - accuracy: 0.7364\n",
      "Epoch 18/100\n",
      "2/2 [==============================] - 0s 7ms/step - loss: 0.6519 - accuracy: 0.7290\n",
      "Epoch 19/100\n",
      "2/2 [==============================] - 0s 7ms/step - loss: 0.6432 - accuracy: 0.7386\n",
      "Epoch 20/100\n",
      "2/2 [==============================] - 0s 7ms/step - loss: 0.6318 - accuracy: 0.7386\n",
      "Epoch 21/100\n",
      "2/2 [==============================] - 0s 7ms/step - loss: 0.6288 - accuracy: 0.7395\n",
      "Epoch 22/100\n",
      "2/2 [==============================] - 0s 7ms/step - loss: 0.6293 - accuracy: 0.7417\n",
      "Epoch 23/100\n",
      "2/2 [==============================] - 0s 7ms/step - loss: 0.6175 - accuracy: 0.7471\n",
      "Epoch 24/100\n",
      "2/2 [==============================] - 0s 7ms/step - loss: 0.6152 - accuracy: 0.7516\n",
      "Epoch 25/100\n",
      "2/2 [==============================] - 0s 7ms/step - loss: 0.6193 - accuracy: 0.7491\n",
      "Epoch 26/100\n",
      "2/2 [==============================] - 0s 7ms/step - loss: 0.6141 - accuracy: 0.7482\n",
      "Epoch 27/100\n",
      "2/2 [==============================] - 0s 6ms/step - loss: 0.6130 - accuracy: 0.7553\n",
      "Epoch 28/100\n",
      "2/2 [==============================] - 0s 7ms/step - loss: 0.6111 - accuracy: 0.7480\n",
      "Epoch 29/100\n",
      "2/2 [==============================] - 0s 9ms/step - loss: 0.5991 - accuracy: 0.7604\n",
      "Epoch 30/100\n",
      "2/2 [==============================] - 0s 8ms/step - loss: 0.6036 - accuracy: 0.7587\n",
      "Epoch 31/100\n",
      "2/2 [==============================] - 0s 7ms/step - loss: 0.5922 - accuracy: 0.7590\n",
      "Epoch 32/100\n",
      "2/2 [==============================] - 0s 6ms/step - loss: 0.6001 - accuracy: 0.7553\n",
      "Epoch 33/100\n",
      "2/2 [==============================] - 0s 8ms/step - loss: 0.5926 - accuracy: 0.7635\n",
      "Epoch 34/100\n",
      "2/2 [==============================] - 0s 7ms/step - loss: 0.5895 - accuracy: 0.7612\n",
      "Epoch 35/100\n",
      "2/2 [==============================] - 0s 7ms/step - loss: 0.5934 - accuracy: 0.7590\n",
      "Epoch 36/100\n",
      "2/2 [==============================] - 0s 6ms/step - loss: 0.5795 - accuracy: 0.7635\n",
      "Epoch 37/100\n",
      "2/2 [==============================] - 0s 7ms/step - loss: 0.5860 - accuracy: 0.7663\n",
      "Epoch 38/100\n",
      "2/2 [==============================] - 0s 6ms/step - loss: 0.5785 - accuracy: 0.7658\n",
      "Epoch 39/100\n",
      "2/2 [==============================] - 0s 6ms/step - loss: 0.5836 - accuracy: 0.7607\n",
      "Epoch 40/100\n",
      "2/2 [==============================] - 0s 6ms/step - loss: 0.5763 - accuracy: 0.7663\n",
      "Epoch 41/100\n",
      "2/2 [==============================] - 0s 7ms/step - loss: 0.5733 - accuracy: 0.7649\n",
      "Epoch 42/100\n",
      "2/2 [==============================] - 0s 7ms/step - loss: 0.5789 - accuracy: 0.7607\n",
      "Epoch 43/100\n",
      "2/2 [==============================] - 0s 7ms/step - loss: 0.5690 - accuracy: 0.7742\n",
      "Epoch 44/100\n",
      "2/2 [==============================] - 0s 8ms/step - loss: 0.5759 - accuracy: 0.7677\n",
      "Epoch 45/100\n",
      "2/2 [==============================] - 0s 7ms/step - loss: 0.5678 - accuracy: 0.7711\n",
      "Epoch 46/100\n",
      "2/2 [==============================] - 0s 5ms/step - loss: 0.5655 - accuracy: 0.7680\n",
      "Epoch 47/100\n",
      "2/2 [==============================] - 0s 6ms/step - loss: 0.5646 - accuracy: 0.7771\n",
      "Epoch 48/100\n",
      "2/2 [==============================] - 0s 7ms/step - loss: 0.5623 - accuracy: 0.7725\n",
      "Epoch 49/100\n",
      "2/2 [==============================] - 0s 7ms/step - loss: 0.5699 - accuracy: 0.7672\n",
      "Epoch 50/100\n",
      "2/2 [==============================] - 0s 8ms/step - loss: 0.5515 - accuracy: 0.7723\n",
      "Epoch 51/100\n",
      "2/2 [==============================] - 0s 6ms/step - loss: 0.5590 - accuracy: 0.7756\n",
      "Epoch 52/100\n",
      "2/2 [==============================] - 0s 6ms/step - loss: 0.5614 - accuracy: 0.7748\n",
      "Epoch 53/100\n",
      "2/2 [==============================] - 0s 6ms/step - loss: 0.5595 - accuracy: 0.7745\n",
      "Epoch 54/100\n",
      "2/2 [==============================] - 0s 6ms/step - loss: 0.5637 - accuracy: 0.7734\n",
      "Epoch 55/100\n",
      "2/2 [==============================] - 0s 7ms/step - loss: 0.5537 - accuracy: 0.7728\n",
      "Epoch 56/100\n",
      "2/2 [==============================] - 0s 8ms/step - loss: 0.5539 - accuracy: 0.7737\n",
      "Epoch 57/100\n",
      "2/2 [==============================] - 0s 7ms/step - loss: 0.5491 - accuracy: 0.7756\n",
      "Epoch 58/100\n",
      "2/2 [==============================] - 0s 7ms/step - loss: 0.5462 - accuracy: 0.7765\n",
      "Epoch 59/100\n",
      "2/2 [==============================] - 0s 6ms/step - loss: 0.5460 - accuracy: 0.7754\n",
      "Epoch 60/100\n",
      "2/2 [==============================] - 0s 7ms/step - loss: 0.5518 - accuracy: 0.7725\n",
      "Epoch 61/100\n",
      "2/2 [==============================] - 0s 6ms/step - loss: 0.5508 - accuracy: 0.7807\n",
      "Epoch 62/100\n",
      "2/2 [==============================] - 0s 7ms/step - loss: 0.5473 - accuracy: 0.7737\n",
      "Epoch 63/100\n",
      "2/2 [==============================] - 0s 8ms/step - loss: 0.5481 - accuracy: 0.7810\n",
      "Epoch 64/100\n",
      "2/2 [==============================] - 0s 7ms/step - loss: 0.5406 - accuracy: 0.7858\n",
      "Epoch 65/100\n",
      "2/2 [==============================] - 0s 5ms/step - loss: 0.5468 - accuracy: 0.7773\n",
      "Epoch 66/100\n",
      "2/2 [==============================] - 0s 6ms/step - loss: 0.5406 - accuracy: 0.7827\n",
      "Epoch 67/100\n",
      "2/2 [==============================] - 0s 6ms/step - loss: 0.5358 - accuracy: 0.7861\n",
      "Epoch 68/100\n",
      "2/2 [==============================] - 0s 7ms/step - loss: 0.5482 - accuracy: 0.7737\n",
      "Epoch 69/100\n",
      "2/2 [==============================] - 0s 7ms/step - loss: 0.5367 - accuracy: 0.7836\n",
      "Epoch 70/100\n",
      "2/2 [==============================] - 0s 6ms/step - loss: 0.5368 - accuracy: 0.7728\n",
      "Epoch 71/100\n",
      "2/2 [==============================] - 0s 7ms/step - loss: 0.5322 - accuracy: 0.7841\n",
      "Epoch 72/100\n",
      "2/2 [==============================] - 0s 9ms/step - loss: 0.5399 - accuracy: 0.7816\n",
      "Epoch 73/100\n",
      "2/2 [==============================] - 0s 8ms/step - loss: 0.5296 - accuracy: 0.7833\n",
      "Epoch 74/100\n",
      "2/2 [==============================] - 0s 7ms/step - loss: 0.5314 - accuracy: 0.7819\n",
      "Epoch 75/100\n",
      "2/2 [==============================] - 0s 8ms/step - loss: 0.5273 - accuracy: 0.7861\n",
      "Epoch 76/100\n",
      "2/2 [==============================] - 0s 7ms/step - loss: 0.5194 - accuracy: 0.7867\n",
      "Epoch 77/100\n",
      "2/2 [==============================] - 0s 9ms/step - loss: 0.5264 - accuracy: 0.7836\n",
      "Epoch 78/100\n",
      "2/2 [==============================] - 0s 9ms/step - loss: 0.5308 - accuracy: 0.7844\n",
      "Epoch 79/100\n",
      "2/2 [==============================] - 0s 14ms/step - loss: 0.5303 - accuracy: 0.7869\n",
      "Epoch 80/100\n",
      "2/2 [==============================] - 0s 9ms/step - loss: 0.5307 - accuracy: 0.7827\n",
      "Epoch 81/100\n",
      "2/2 [==============================] - 0s 8ms/step - loss: 0.5271 - accuracy: 0.7926\n",
      "Epoch 82/100\n",
      "2/2 [==============================] - 0s 12ms/step - loss: 0.5281 - accuracy: 0.7886\n",
      "Epoch 83/100\n",
      "2/2 [==============================] - 0s 7ms/step - loss: 0.5235 - accuracy: 0.7937\n",
      "Epoch 84/100\n",
      "2/2 [==============================] - 0s 8ms/step - loss: 0.5225 - accuracy: 0.7807\n",
      "Epoch 85/100\n",
      "2/2 [==============================] - 0s 8ms/step - loss: 0.5218 - accuracy: 0.7844\n",
      "Epoch 86/100\n",
      "2/2 [==============================] - 0s 7ms/step - loss: 0.5206 - accuracy: 0.7850\n",
      "Epoch 87/100\n",
      "2/2 [==============================] - 0s 7ms/step - loss: 0.5320 - accuracy: 0.7847\n",
      "Epoch 88/100\n",
      "2/2 [==============================] - 0s 7ms/step - loss: 0.5106 - accuracy: 0.7934\n",
      "Epoch 89/100\n",
      "2/2 [==============================] - 0s 6ms/step - loss: 0.5216 - accuracy: 0.7923\n",
      "Epoch 90/100\n",
      "2/2 [==============================] - 0s 7ms/step - loss: 0.5122 - accuracy: 0.7937\n",
      "Epoch 91/100\n",
      "2/2 [==============================] - 0s 7ms/step - loss: 0.5149 - accuracy: 0.7940\n",
      "Epoch 92/100\n",
      "2/2 [==============================] - 0s 7ms/step - loss: 0.5152 - accuracy: 0.7923\n",
      "Epoch 93/100\n",
      "2/2 [==============================] - 0s 8ms/step - loss: 0.5160 - accuracy: 0.7920\n",
      "Epoch 94/100\n",
      "2/2 [==============================] - 0s 8ms/step - loss: 0.5197 - accuracy: 0.7872\n",
      "Epoch 95/100\n",
      "2/2 [==============================] - 0s 8ms/step - loss: 0.5165 - accuracy: 0.7932\n",
      "Epoch 96/100\n",
      "2/2 [==============================] - 0s 6ms/step - loss: 0.5173 - accuracy: 0.7957\n",
      "Epoch 97/100\n",
      "2/2 [==============================] - 0s 12ms/step - loss: 0.5153 - accuracy: 0.7889\n",
      "Epoch 98/100\n",
      "2/2 [==============================] - 0s 8ms/step - loss: 0.5137 - accuracy: 0.7878\n",
      "Epoch 99/100\n",
      "2/2 [==============================] - 0s 11ms/step - loss: 0.5058 - accuracy: 0.7968\n",
      "Epoch 100/100\n",
      "2/2 [==============================] - 0s 7ms/step - loss: 0.5044 - accuracy: 0.7892\n",
      "28/28 [==============================] - 0s 850us/step\n",
      "Accuracy: 0.7819209039548023\n",
      "Classification Report:\n",
      "               precision    recall  f1-score   support\n",
      "\n",
      "     Dropout       0.82      0.75      0.78       284\n",
      "    Enrolled       0.53      0.42      0.47       151\n",
      "    Graduate       0.82      0.93      0.87       450\n",
      "\n",
      "    accuracy                           0.78       885\n",
      "   macro avg       0.72      0.70      0.71       885\n",
      "weighted avg       0.77      0.78      0.77       885\n",
      "\n"
     ]
    }
   ],
   "source": [
    "# Load the dataset with the correct delimiter (semicolon)\n",
    "dropout_data = pd.read_csv(\"dropout.csv\", delimiter=';')\n",
    "\n",
    "# Convert the 'Target' column into numeric values\n",
    "label_encoder = LabelEncoder()\n",
    "dropout_data['Target'] = label_encoder.fit_transform(dropout_data['Target'])\n",
    "\n",
    "# Split the data into features and the target\n",
    "X = dropout_data.drop(columns=['Target'])\n",
    "X = X.drop(columns=['Nacionality', \n",
    "                                  'Mother\\'s qualification', \n",
    "                                  'Father\\'s qualification', \n",
    "                                  'Educational special needs', \n",
    "                                  'International', \n",
    "                                  'Curricular units 1st sem (without evaluations)',\n",
    "                                  'Unemployment rate', \n",
    "                                  'Inflation rate'], axis=1)\n",
    "y = dropout_data['Target']\n",
    "\n",
    "# Standardize the features\n",
    "scaler = StandardScaler()\n",
    "X = scaler.fit_transform(X)\n",
    "\n",
    "# Split the data into training and testing sets\n",
    "X_train, X_test, y_train, y_test = train_test_split(X, y, test_size=0.2, random_state=0)\n",
    "\n",
    "# Define the neural network model\n",
    "model = Sequential()\n",
    "model.add(Dense(128, input_dim=X_train.shape[1], activation='relu'))\n",
    "model.add(Dropout(0.2))\n",
    "model.add(Dense(64, activation='relu'))\n",
    "model.add(Dropout(0.2))\n",
    "model.add(Dense(32, activation='relu'))\n",
    "model.add(Dense(3, activation='softmax'))  # 3 output units for 'dropout', 'enrolled', and 'graduate'\n",
    "\n",
    "# Compile the model\n",
    "model.compile(loss='categorical_crossentropy', optimizer='adam', metrics=['accuracy'])\n",
    "\n",
    "# Convert target labels to one-hot encoding\n",
    "y_train = to_categorical(y_train, num_classes=3)\n",
    "\n",
    "# Train the model\n",
    "model.fit(X_train, y_train, epochs=100, batch_size=2048, verbose=1)\n",
    "\n",
    "# Make predictions on the test data\n",
    "y_pred = model.predict(X_test)\n",
    "y_pred = np.argmax(y_pred, axis=1)  # Convert one-hot encoded predictions back to labels\n",
    "\n",
    "# Evaluate the model\n",
    "accuracy = accuracy_score(y_test, y_pred)\n",
    "report = classification_report(y_test, y_pred, target_names=label_encoder.classes_)\n",
    "\n",
    "print(\"Accuracy:\", accuracy)\n",
    "print(\"Classification Report:\\n\", report)"
   ]
  },
  {
   "cell_type": "markdown",
   "metadata": {},
   "source": []
  },
  {
   "cell_type": "code",
   "execution_count": 26,
   "metadata": {},
   "outputs": [
    {
     "name": "stdout",
     "output_type": "stream",
     "text": [
      "      Dropout  Enrolled  Graduate\n",
      "0        True     False     False\n",
      "1       False     False      True\n",
      "2        True     False     False\n",
      "3       False     False      True\n",
      "4       False     False      True\n",
      "...       ...       ...       ...\n",
      "4419    False     False      True\n",
      "4420     True     False     False\n",
      "4421     True     False     False\n",
      "4422    False     False      True\n",
      "4423    False     False      True\n",
      "\n",
      "[4424 rows x 3 columns]\n",
      "Feature: Index(['Marital status', 'Application mode', 'Application order', 'Course',\n",
      "       'Daytime/evening attendance\\t', 'Previous qualification',\n",
      "       'Previous qualification (grade)', 'Admission grade', 'Displaced',\n",
      "       'Debtor', 'Tuition fees up to date', 'Gender', 'Scholarship holder',\n",
      "       'Age at enrollment', 'Curricular units 1st sem (credited)',\n",
      "       'Curricular units 1st sem (enrolled)',\n",
      "       'Curricular units 1st sem (evaluations)',\n",
      "       'Curricular units 1st sem (approved)',\n",
      "       'Curricular units 1st sem (grade)',\n",
      "       'Curricular units 2nd sem (credited)',\n",
      "       'Curricular units 2nd sem (enrolled)',\n",
      "       'Curricular units 2nd sem (evaluations)',\n",
      "       'Curricular units 2nd sem (approved)',\n",
      "       'Curricular units 2nd sem (grade)', 'GDP'],\n",
      "      dtype='object')\n"
     ]
    }
   ],
   "source": [
    "# Load the dataset with the correct delimiter (semicolon)\n",
    "dropout_data = pd.read_csv(\"dropout.csv\", delimiter=';')\n",
    "\n",
    "# Convert the 'Target' column into numeric values\n",
    "label_encoder = LabelEncoder()\n",
    "print(pd.get_dummies(dropout_data['Target']))\n",
    "dropout_data['Target'] = label_encoder.fit_transform(dropout_data['Target'])\n",
    "\n",
    "# Split the data into features and the target\n",
    "X = dropout_data.drop(columns=['Target'])\n",
    "X = X.drop(columns=['Nacionality', \n",
    "                    'Mother\\'s qualification', \n",
    "                    'Father\\'s qualification', \n",
    "                    'Mother\\'s occupation',\n",
    "                    'Father\\'s occupation',\n",
    "                    'Educational special needs', \n",
    "                    'International', \n",
    "                    'Curricular units 1st sem (without evaluations)',\n",
    "                    'Curricular units 2nd sem (without evaluations)',\n",
    "                    'Unemployment rate', \n",
    "                    # 'Application mode',\n",
    "                    'Inflation rate'], axis=1)\n",
    "print(f\"Feature: {(X.columns)}\")\n",
    "# X = X[outputs[0]]\n",
    "y = dropout_data['Target']\n",
    "\n",
    "# Standardize the features\n",
    "scaler = StandardScaler()\n",
    "X = scaler.fit_transform(X)\n",
    "\n",
    "# Split the data into training and testing sets\n",
    "X_train, X_test, y_train, y_test = train_test_split(X, y, test_size=0.2, random_state=0)"
   ]
  },
  {
   "cell_type": "code",
   "execution_count": 27,
   "metadata": {},
   "outputs": [
    {
     "name": "stdout",
     "output_type": "stream",
     "text": [
      "Original Full Dataset: Counter({2: 2209, 0: 1421, 1: 794})\n",
      "Original Dataset: Counter({2: 1759, 0: 1137, 1: 643})\n",
      "Balanced Dataset: Counter({0: 1759, 1: 1759, 2: 1759})\n"
     ]
    }
   ],
   "source": [
    "from imblearn.over_sampling import RandomOverSampler\n",
    "from imblearn.over_sampling import SMOTE\n",
    "from imblearn.under_sampling import RandomUnderSampler\n",
    "from imblearn.pipeline import Pipeline\n",
    "from collections import Counter\n",
    "import numpy as np\n",
    "print(\"Original Full Dataset:\", Counter(y))\n",
    "print(\"Original Dataset:\", Counter(y_train))\n",
    "over = RandomOverSampler(sampling_strategy='auto',random_state=21)\n",
    "under = RandomUnderSampler(sampling_strategy='auto',random_state=21)\n",
    "pipeline = Pipeline(steps=[('o', over), ('u', under)])\n",
    "X_train, y_train = pipeline.fit_resample(X_train, y_train)\n",
    "\n",
    "print(\"Balanced Dataset:\", Counter(y_train))"
   ]
  },
  {
   "cell_type": "code",
   "execution_count": 28,
   "metadata": {},
   "outputs": [],
   "source": [
    "import pandas as pd\n",
    "# import plotly.express as px\n",
    "import seaborn as sns\n",
    "import matplotlib.pyplot as plt\n",
    "from sklearn.model_selection import train_test_split\n",
    "from sklearn.metrics import accuracy_score,f1_score,precision_score,recall_score\n",
    "\n",
    "from sklearn.tree import DecisionTreeClassifier\n",
    "from sklearn.ensemble import RandomForestClassifier\n",
    "from sklearn.linear_model import LogisticRegression\n",
    "from sklearn.neighbors import KNeighborsClassifier\n",
    "from sklearn.ensemble import AdaBoostClassifier\n",
    "from xgboost import XGBClassifier\n",
    "from sklearn import svm\n",
    "from sklearn.metrics import accuracy_score, classification_report\n",
    "\n",
    "from sklearn.model_selection import GridSearchCV, RandomizedSearchCV\n",
    "from sklearn.ensemble import VotingClassifier"
   ]
  },
  {
   "cell_type": "code",
   "execution_count": 29,
   "metadata": {},
   "outputs": [
    {
     "name": "stdout",
     "output_type": "stream",
     "text": [
      "(42, 0.8112994350282486)\n"
     ]
    }
   ],
   "source": [
    "rfc = RandomForestClassifier(random_state=0)\n",
    "modelList = [RandomForestClassifier]\n",
    "for model in modelList:\n",
    "    arr = []\n",
    "    for i in range(0,50,2):\n",
    "        m = model(random_state=i)\n",
    "        m.fit(X_train,y_train)\n",
    "        y_pred = m.predict(X_test)\n",
    "        arr.append((i,accuracy_score(y_test,y_pred)))\n",
    "    print(max(arr,key= lambda x:x[1]))"
   ]
  },
  {
   "cell_type": "code",
   "execution_count": 25,
   "metadata": {},
   "outputs": [
    {
     "ename": "KeyboardInterrupt",
     "evalue": "",
     "output_type": "error",
     "traceback": [
      "\u001b[1;31m---------------------------------------------------------------------------\u001b[0m",
      "\u001b[1;31mKeyboardInterrupt\u001b[0m                         Traceback (most recent call last)",
      "\u001b[1;32mc:\\Users\\LALA\\PycharmProjects\\ECS 171 project\\ECS171Group32\\JoeyH_Dropout Randomsampline.ipynb Cell 8\u001b[0m line \u001b[0;36m8\n\u001b[0;32m      <a href='vscode-notebook-cell:/c%3A/Users/LALA/PycharmProjects/ECS%20171%20project/ECS171Group32/JoeyH_Dropout%20Randomsampline.ipynb#X36sZmlsZQ%3D%3D?line=5'>6</a>\u001b[0m \u001b[39mfor\u001b[39;00m learning_rate \u001b[39min\u001b[39;00m [\u001b[39m0.3\u001b[39m,\u001b[39m0.4\u001b[39m]:\n\u001b[0;32m      <a href='vscode-notebook-cell:/c%3A/Users/LALA/PycharmProjects/ECS%20171%20project/ECS171Group32/JoeyH_Dropout%20Randomsampline.ipynb#X36sZmlsZQ%3D%3D?line=6'>7</a>\u001b[0m     m \u001b[39m=\u001b[39m XGBClassifier(learning_rate \u001b[39m=\u001b[39m learning_rate,n_estimators\u001b[39m=\u001b[39mn_estimators,max_depth\u001b[39m=\u001b[39mmax_depth, tree_method \u001b[39m=\u001b[39m \u001b[39m\"\u001b[39m\u001b[39mhist\u001b[39m\u001b[39m\"\u001b[39m, device \u001b[39m=\u001b[39m \u001b[39m\"\u001b[39m\u001b[39mcuda\u001b[39m\u001b[39m\"\u001b[39m)\n\u001b[1;32m----> <a href='vscode-notebook-cell:/c%3A/Users/LALA/PycharmProjects/ECS%20171%20project/ECS171Group32/JoeyH_Dropout%20Randomsampline.ipynb#X36sZmlsZQ%3D%3D?line=7'>8</a>\u001b[0m     m\u001b[39m.\u001b[39;49mfit(X_train,y_train)\n\u001b[0;32m      <a href='vscode-notebook-cell:/c%3A/Users/LALA/PycharmProjects/ECS%20171%20project/ECS171Group32/JoeyH_Dropout%20Randomsampline.ipynb#X36sZmlsZQ%3D%3D?line=8'>9</a>\u001b[0m     y_pred \u001b[39m=\u001b[39m m\u001b[39m.\u001b[39mpredict(X_test)\n\u001b[0;32m     <a href='vscode-notebook-cell:/c%3A/Users/LALA/PycharmProjects/ECS%20171%20project/ECS171Group32/JoeyH_Dropout%20Randomsampline.ipynb#X36sZmlsZQ%3D%3D?line=9'>10</a>\u001b[0m     \u001b[39m# print(accuracy_score(y_test,y_pred))\u001b[39;00m\n",
      "File \u001b[1;32mc:\\Users\\LALA\\AppData\\Local\\Programs\\Python\\Python39\\lib\\site-packages\\xgboost\\core.py:729\u001b[0m, in \u001b[0;36mrequire_keyword_args.<locals>.throw_if.<locals>.inner_f\u001b[1;34m(*args, **kwargs)\u001b[0m\n\u001b[0;32m    727\u001b[0m \u001b[39mfor\u001b[39;00m k, arg \u001b[39min\u001b[39;00m \u001b[39mzip\u001b[39m(sig\u001b[39m.\u001b[39mparameters, args):\n\u001b[0;32m    728\u001b[0m     kwargs[k] \u001b[39m=\u001b[39m arg\n\u001b[1;32m--> 729\u001b[0m \u001b[39mreturn\u001b[39;00m func(\u001b[39m*\u001b[39m\u001b[39m*\u001b[39mkwargs)\n",
      "File \u001b[1;32mc:\\Users\\LALA\\AppData\\Local\\Programs\\Python\\Python39\\lib\\site-packages\\xgboost\\sklearn.py:1515\u001b[0m, in \u001b[0;36mXGBClassifier.fit\u001b[1;34m(self, X, y, sample_weight, base_margin, eval_set, eval_metric, early_stopping_rounds, verbose, xgb_model, sample_weight_eval_set, base_margin_eval_set, feature_weights, callbacks)\u001b[0m\n\u001b[0;32m   1487\u001b[0m (\n\u001b[0;32m   1488\u001b[0m     model,\n\u001b[0;32m   1489\u001b[0m     metric,\n\u001b[1;32m   (...)\u001b[0m\n\u001b[0;32m   1494\u001b[0m     xgb_model, eval_metric, params, early_stopping_rounds, callbacks\n\u001b[0;32m   1495\u001b[0m )\n\u001b[0;32m   1496\u001b[0m train_dmatrix, evals \u001b[39m=\u001b[39m _wrap_evaluation_matrices(\n\u001b[0;32m   1497\u001b[0m     missing\u001b[39m=\u001b[39m\u001b[39mself\u001b[39m\u001b[39m.\u001b[39mmissing,\n\u001b[0;32m   1498\u001b[0m     X\u001b[39m=\u001b[39mX,\n\u001b[1;32m   (...)\u001b[0m\n\u001b[0;32m   1512\u001b[0m     feature_types\u001b[39m=\u001b[39m\u001b[39mself\u001b[39m\u001b[39m.\u001b[39mfeature_types,\n\u001b[0;32m   1513\u001b[0m )\n\u001b[1;32m-> 1515\u001b[0m \u001b[39mself\u001b[39m\u001b[39m.\u001b[39m_Booster \u001b[39m=\u001b[39m train(\n\u001b[0;32m   1516\u001b[0m     params,\n\u001b[0;32m   1517\u001b[0m     train_dmatrix,\n\u001b[0;32m   1518\u001b[0m     \u001b[39mself\u001b[39;49m\u001b[39m.\u001b[39;49mget_num_boosting_rounds(),\n\u001b[0;32m   1519\u001b[0m     evals\u001b[39m=\u001b[39;49mevals,\n\u001b[0;32m   1520\u001b[0m     early_stopping_rounds\u001b[39m=\u001b[39;49mearly_stopping_rounds,\n\u001b[0;32m   1521\u001b[0m     evals_result\u001b[39m=\u001b[39;49mevals_result,\n\u001b[0;32m   1522\u001b[0m     obj\u001b[39m=\u001b[39;49mobj,\n\u001b[0;32m   1523\u001b[0m     custom_metric\u001b[39m=\u001b[39;49mmetric,\n\u001b[0;32m   1524\u001b[0m     verbose_eval\u001b[39m=\u001b[39;49mverbose,\n\u001b[0;32m   1525\u001b[0m     xgb_model\u001b[39m=\u001b[39;49mmodel,\n\u001b[0;32m   1526\u001b[0m     callbacks\u001b[39m=\u001b[39;49mcallbacks,\n\u001b[0;32m   1527\u001b[0m )\n\u001b[0;32m   1529\u001b[0m \u001b[39mif\u001b[39;00m \u001b[39mnot\u001b[39;00m \u001b[39mcallable\u001b[39m(\u001b[39mself\u001b[39m\u001b[39m.\u001b[39mobjective):\n\u001b[0;32m   1530\u001b[0m     \u001b[39mself\u001b[39m\u001b[39m.\u001b[39mobjective \u001b[39m=\u001b[39m params[\u001b[39m\"\u001b[39m\u001b[39mobjective\u001b[39m\u001b[39m\"\u001b[39m]\n",
      "File \u001b[1;32mc:\\Users\\LALA\\AppData\\Local\\Programs\\Python\\Python39\\lib\\site-packages\\xgboost\\core.py:729\u001b[0m, in \u001b[0;36mrequire_keyword_args.<locals>.throw_if.<locals>.inner_f\u001b[1;34m(*args, **kwargs)\u001b[0m\n\u001b[0;32m    727\u001b[0m \u001b[39mfor\u001b[39;00m k, arg \u001b[39min\u001b[39;00m \u001b[39mzip\u001b[39m(sig\u001b[39m.\u001b[39mparameters, args):\n\u001b[0;32m    728\u001b[0m     kwargs[k] \u001b[39m=\u001b[39m arg\n\u001b[1;32m--> 729\u001b[0m \u001b[39mreturn\u001b[39;00m func(\u001b[39m*\u001b[39m\u001b[39m*\u001b[39mkwargs)\n",
      "File \u001b[1;32mc:\\Users\\LALA\\AppData\\Local\\Programs\\Python\\Python39\\lib\\site-packages\\xgboost\\training.py:181\u001b[0m, in \u001b[0;36mtrain\u001b[1;34m(params, dtrain, num_boost_round, evals, obj, feval, maximize, early_stopping_rounds, evals_result, verbose_eval, xgb_model, callbacks, custom_metric)\u001b[0m\n\u001b[0;32m    179\u001b[0m \u001b[39mif\u001b[39;00m cb_container\u001b[39m.\u001b[39mbefore_iteration(bst, i, dtrain, evals):\n\u001b[0;32m    180\u001b[0m     \u001b[39mbreak\u001b[39;00m\n\u001b[1;32m--> 181\u001b[0m bst\u001b[39m.\u001b[39;49mupdate(dtrain, i, obj)\n\u001b[0;32m    182\u001b[0m \u001b[39mif\u001b[39;00m cb_container\u001b[39m.\u001b[39mafter_iteration(bst, i, dtrain, evals):\n\u001b[0;32m    183\u001b[0m     \u001b[39mbreak\u001b[39;00m\n",
      "File \u001b[1;32mc:\\Users\\LALA\\AppData\\Local\\Programs\\Python\\Python39\\lib\\site-packages\\xgboost\\core.py:2050\u001b[0m, in \u001b[0;36mBooster.update\u001b[1;34m(self, dtrain, iteration, fobj)\u001b[0m\n\u001b[0;32m   2046\u001b[0m \u001b[39mself\u001b[39m\u001b[39m.\u001b[39m_assign_dmatrix_features(dtrain)\n\u001b[0;32m   2048\u001b[0m \u001b[39mif\u001b[39;00m fobj \u001b[39mis\u001b[39;00m \u001b[39mNone\u001b[39;00m:\n\u001b[0;32m   2049\u001b[0m     _check_call(\n\u001b[1;32m-> 2050\u001b[0m         _LIB\u001b[39m.\u001b[39;49mXGBoosterUpdateOneIter(\n\u001b[0;32m   2051\u001b[0m             \u001b[39mself\u001b[39;49m\u001b[39m.\u001b[39;49mhandle, ctypes\u001b[39m.\u001b[39;49mc_int(iteration), dtrain\u001b[39m.\u001b[39;49mhandle\n\u001b[0;32m   2052\u001b[0m         )\n\u001b[0;32m   2053\u001b[0m     )\n\u001b[0;32m   2054\u001b[0m \u001b[39melse\u001b[39;00m:\n\u001b[0;32m   2055\u001b[0m     pred \u001b[39m=\u001b[39m \u001b[39mself\u001b[39m\u001b[39m.\u001b[39mpredict(dtrain, output_margin\u001b[39m=\u001b[39m\u001b[39mTrue\u001b[39;00m, training\u001b[39m=\u001b[39m\u001b[39mTrue\u001b[39;00m)\n",
      "\u001b[1;31mKeyboardInterrupt\u001b[0m: "
     ]
    }
   ],
   "source": [
    "import warnings\n",
    "warnings.filterwarnings(\"ignore\")\n",
    "arr = []\n",
    "for n_estimators in [100,150,175]:\n",
    "    for max_depth in [5,6,7,8]:\n",
    "        for learning_rate in [0.3,0.4]:\n",
    "            m = XGBClassifier(learning_rate = learning_rate,n_estimators=n_estimators,max_depth=max_depth, tree_method = \"hist\", device = \"cuda\")\n",
    "            m.fit(X_train,y_train)\n",
    "            y_pred = m.predict(X_test)\n",
    "            # print(accuracy_score(y_test,y_pred))\n",
    "            arr.append(((n_estimators,max_depth,learning_rate),accuracy_score(y_test,y_pred)))\n",
    "print(max(arr,key= lambda x:x[1]))"
   ]
  },
  {
   "cell_type": "code",
   "execution_count": 30,
   "metadata": {},
   "outputs": [],
   "source": [
    "rfc = RandomForestClassifier(random_state=42)\n",
    "xbc = XGBClassifier(learning_rate = 0.4,n_estimators=150,max_depth=8, tree_method = \"hist\", device = \"cuda\")"
   ]
  },
  {
   "cell_type": "code",
   "execution_count": 31,
   "metadata": {},
   "outputs": [
    {
     "data": {
      "text/html": [
       "<style>#sk-container-id-3 {color: black;}#sk-container-id-3 pre{padding: 0;}#sk-container-id-3 div.sk-toggleable {background-color: white;}#sk-container-id-3 label.sk-toggleable__label {cursor: pointer;display: block;width: 100%;margin-bottom: 0;padding: 0.3em;box-sizing: border-box;text-align: center;}#sk-container-id-3 label.sk-toggleable__label-arrow:before {content: \"▸\";float: left;margin-right: 0.25em;color: #696969;}#sk-container-id-3 label.sk-toggleable__label-arrow:hover:before {color: black;}#sk-container-id-3 div.sk-estimator:hover label.sk-toggleable__label-arrow:before {color: black;}#sk-container-id-3 div.sk-toggleable__content {max-height: 0;max-width: 0;overflow: hidden;text-align: left;background-color: #f0f8ff;}#sk-container-id-3 div.sk-toggleable__content pre {margin: 0.2em;color: black;border-radius: 0.25em;background-color: #f0f8ff;}#sk-container-id-3 input.sk-toggleable__control:checked~div.sk-toggleable__content {max-height: 200px;max-width: 100%;overflow: auto;}#sk-container-id-3 input.sk-toggleable__control:checked~label.sk-toggleable__label-arrow:before {content: \"▾\";}#sk-container-id-3 div.sk-estimator input.sk-toggleable__control:checked~label.sk-toggleable__label {background-color: #d4ebff;}#sk-container-id-3 div.sk-label input.sk-toggleable__control:checked~label.sk-toggleable__label {background-color: #d4ebff;}#sk-container-id-3 input.sk-hidden--visually {border: 0;clip: rect(1px 1px 1px 1px);clip: rect(1px, 1px, 1px, 1px);height: 1px;margin: -1px;overflow: hidden;padding: 0;position: absolute;width: 1px;}#sk-container-id-3 div.sk-estimator {font-family: monospace;background-color: #f0f8ff;border: 1px dotted black;border-radius: 0.25em;box-sizing: border-box;margin-bottom: 0.5em;}#sk-container-id-3 div.sk-estimator:hover {background-color: #d4ebff;}#sk-container-id-3 div.sk-parallel-item::after {content: \"\";width: 100%;border-bottom: 1px solid gray;flex-grow: 1;}#sk-container-id-3 div.sk-label:hover label.sk-toggleable__label {background-color: #d4ebff;}#sk-container-id-3 div.sk-serial::before {content: \"\";position: absolute;border-left: 1px solid gray;box-sizing: border-box;top: 0;bottom: 0;left: 50%;z-index: 0;}#sk-container-id-3 div.sk-serial {display: flex;flex-direction: column;align-items: center;background-color: white;padding-right: 0.2em;padding-left: 0.2em;position: relative;}#sk-container-id-3 div.sk-item {position: relative;z-index: 1;}#sk-container-id-3 div.sk-parallel {display: flex;align-items: stretch;justify-content: center;background-color: white;position: relative;}#sk-container-id-3 div.sk-item::before, #sk-container-id-3 div.sk-parallel-item::before {content: \"\";position: absolute;border-left: 1px solid gray;box-sizing: border-box;top: 0;bottom: 0;left: 50%;z-index: -1;}#sk-container-id-3 div.sk-parallel-item {display: flex;flex-direction: column;z-index: 1;position: relative;background-color: white;}#sk-container-id-3 div.sk-parallel-item:first-child::after {align-self: flex-end;width: 50%;}#sk-container-id-3 div.sk-parallel-item:last-child::after {align-self: flex-start;width: 50%;}#sk-container-id-3 div.sk-parallel-item:only-child::after {width: 0;}#sk-container-id-3 div.sk-dashed-wrapped {border: 1px dashed gray;margin: 0 0.4em 0.5em 0.4em;box-sizing: border-box;padding-bottom: 0.4em;background-color: white;}#sk-container-id-3 div.sk-label label {font-family: monospace;font-weight: bold;display: inline-block;line-height: 1.2em;}#sk-container-id-3 div.sk-label-container {text-align: center;}#sk-container-id-3 div.sk-container {/* jupyter's `normalize.less` sets `[hidden] { display: none; }` but bootstrap.min.css set `[hidden] { display: none !important; }` so we also need the `!important` here to be able to override the default hidden behavior on the sphinx rendered scikit-learn.org. See: https://github.com/scikit-learn/scikit-learn/issues/21755 */display: inline-block !important;position: relative;}#sk-container-id-3 div.sk-text-repr-fallback {display: none;}</style><div id=\"sk-container-id-3\" class=\"sk-top-container\"><div class=\"sk-text-repr-fallback\"><pre>XGBClassifier(base_score=None, booster=None, callbacks=None,\n",
       "              colsample_bylevel=None, colsample_bynode=None,\n",
       "              colsample_bytree=None, device=&#x27;cuda&#x27;, early_stopping_rounds=None,\n",
       "              enable_categorical=False, eval_metric=None, feature_types=None,\n",
       "              gamma=None, grow_policy=None, importance_type=None,\n",
       "              interaction_constraints=None, learning_rate=0.4, max_bin=None,\n",
       "              max_cat_threshold=None, max_cat_to_onehot=None,\n",
       "              max_delta_step=None, max_depth=8, max_leaves=None,\n",
       "              min_child_weight=None, missing=nan, monotone_constraints=None,\n",
       "              multi_strategy=None, n_estimators=150, n_jobs=None,\n",
       "              num_parallel_tree=None, objective=&#x27;multi:softprob&#x27;, ...)</pre><b>In a Jupyter environment, please rerun this cell to show the HTML representation or trust the notebook. <br />On GitHub, the HTML representation is unable to render, please try loading this page with nbviewer.org.</b></div><div class=\"sk-container\" hidden><div class=\"sk-item\"><div class=\"sk-estimator sk-toggleable\"><input class=\"sk-toggleable__control sk-hidden--visually\" id=\"sk-estimator-id-3\" type=\"checkbox\" checked><label for=\"sk-estimator-id-3\" class=\"sk-toggleable__label sk-toggleable__label-arrow\">XGBClassifier</label><div class=\"sk-toggleable__content\"><pre>XGBClassifier(base_score=None, booster=None, callbacks=None,\n",
       "              colsample_bylevel=None, colsample_bynode=None,\n",
       "              colsample_bytree=None, device=&#x27;cuda&#x27;, early_stopping_rounds=None,\n",
       "              enable_categorical=False, eval_metric=None, feature_types=None,\n",
       "              gamma=None, grow_policy=None, importance_type=None,\n",
       "              interaction_constraints=None, learning_rate=0.4, max_bin=None,\n",
       "              max_cat_threshold=None, max_cat_to_onehot=None,\n",
       "              max_delta_step=None, max_depth=8, max_leaves=None,\n",
       "              min_child_weight=None, missing=nan, monotone_constraints=None,\n",
       "              multi_strategy=None, n_estimators=150, n_jobs=None,\n",
       "              num_parallel_tree=None, objective=&#x27;multi:softprob&#x27;, ...)</pre></div></div></div></div></div>"
      ],
      "text/plain": [
       "XGBClassifier(base_score=None, booster=None, callbacks=None,\n",
       "              colsample_bylevel=None, colsample_bynode=None,\n",
       "              colsample_bytree=None, device='cuda', early_stopping_rounds=None,\n",
       "              enable_categorical=False, eval_metric=None, feature_types=None,\n",
       "              gamma=None, grow_policy=None, importance_type=None,\n",
       "              interaction_constraints=None, learning_rate=0.4, max_bin=None,\n",
       "              max_cat_threshold=None, max_cat_to_onehot=None,\n",
       "              max_delta_step=None, max_depth=8, max_leaves=None,\n",
       "              min_child_weight=None, missing=nan, monotone_constraints=None,\n",
       "              multi_strategy=None, n_estimators=150, n_jobs=None,\n",
       "              num_parallel_tree=None, objective='multi:softprob', ...)"
      ]
     },
     "execution_count": 31,
     "metadata": {},
     "output_type": "execute_result"
    }
   ],
   "source": [
    "rfc.fit(X_train,y_train)\n",
    "xbc.fit(X_train, y_train)"
   ]
  },
  {
   "cell_type": "code",
   "execution_count": 32,
   "metadata": {},
   "outputs": [
    {
     "name": "stdout",
     "output_type": "stream",
     "text": [
      "RandomForest Accuracy\t\t : 81.12994 %\n",
      "              precision    recall  f1-score   support\n",
      "\n",
      "     Dropout       0.84      0.76      0.80       284\n",
      "    Enrolled       0.58      0.58      0.58       151\n",
      "    Graduate       0.87      0.92      0.89       450\n",
      "\n",
      "    accuracy                           0.81       885\n",
      "   macro avg       0.76      0.75      0.76       885\n",
      "weighted avg       0.81      0.81      0.81       885\n",
      "\n",
      "XGBoost Accuracy\t\t : 79.43503 %\n",
      "              precision    recall  f1-score   support\n",
      "\n",
      "     Dropout       0.82      0.77      0.79       284\n",
      "    Enrolled       0.55      0.54      0.54       151\n",
      "    Graduate       0.86      0.90      0.88       450\n",
      "\n",
      "    accuracy                           0.79       885\n",
      "   macro avg       0.74      0.73      0.74       885\n",
      "weighted avg       0.79      0.79      0.79       885\n",
      "\n"
     ]
    }
   ],
   "source": [
    "y_pred = rfc.predict(X_test)\n",
    "print(\"RandomForest Accuracy\\t\\t :\",round(accuracy_score(y_test,y_pred)*100,5),\"%\")\n",
    "print(classification_report(y_test,y_pred,target_names=['Dropout','Enrolled','Graduate']))\n",
    "y_pred = xbc.predict(X_test)\n",
    "print(\"XGBoost Accuracy\\t\\t :\",round(accuracy_score(y_test,y_pred)*100,5),\"%\")\n",
    "print(classification_report(y_test,y_pred,target_names=['Dropout','Enrolled','Graduate']))"
   ]
  },
  {
   "cell_type": "code",
   "execution_count": 18,
   "metadata": {},
   "outputs": [
    {
     "name": "stdout",
     "output_type": "stream",
     "text": [
      "Voting Classifier Accuracy : 80.0 %\n",
      "              precision    recall  f1-score   support\n",
      "\n",
      "           0       0.80      0.80      0.80       284\n",
      "           1       0.56      0.58      0.57       151\n",
      "           2       0.88      0.88      0.88       450\n",
      "\n",
      "    accuracy                           0.80       885\n",
      "   macro avg       0.75      0.75      0.75       885\n",
      "weighted avg       0.80      0.80      0.80       885\n",
      "\n"
     ]
    }
   ],
   "source": [
    "ens1 = VotingClassifier(estimators=[('rfc', rfc), ('xbc',xbc)], voting='hard')\n",
    "ens1.fit(X_train, y_train)\n",
    "\n",
    "y_pred = ens1.predict(X_test)\n",
    "print(\"Voting Classifier Accuracy :\",round(accuracy_score(y_test,y_pred)*100,2),\"%\")\n",
    "print(classification_report(y_test,y_pred))"
   ]
  },
  {
   "cell_type": "code",
   "execution_count": 14,
   "metadata": {},
   "outputs": [
    {
     "name": "stdout",
     "output_type": "stream",
     "text": [
      "((150, 8, 0.4), 0.8)\n"
     ]
    }
   ],
   "source": [
    "import warnings\n",
    "warnings.filterwarnings(\"ignore\")\n",
    "arr = []\n",
    "for n_estimators in [150,175]:\n",
    "    for max_depth in [5,6,7,8]:\n",
    "        for learning_rate in [0.4,0.5,0.6]:\n",
    "            m = XGBClassifier(learning_rate = learning_rate,n_estimators=n_estimators,max_depth=max_depth, tree_method = \"hist\", device = \"cuda\")\n",
    "            vc = VotingClassifier(estimators=[('rfc', rfc), ('xbc',m)], voting='soft')\n",
    "            vc.fit(X_train, y_train)\n",
    "            y_pred = vc.predict(X_test)\n",
    "            # print(accuracy_score(y_test,y_pred))\n",
    "            arr.append(((n_estimators,max_depth,learning_rate),accuracy_score(y_test,y_pred)))\n",
    "print(max(arr,key= lambda x:x[1]))"
   ]
  },
  {
   "cell_type": "code",
   "execution_count": 33,
   "metadata": {},
   "outputs": [
    {
     "name": "stdout",
     "output_type": "stream",
     "text": [
      "Voting Classifier Accuracy : 80.0 %\n",
      "              precision    recall  f1-score   support\n",
      "\n",
      "           0       0.84      0.76      0.80       284\n",
      "           1       0.54      0.52      0.53       151\n",
      "           2       0.86      0.92      0.89       450\n",
      "\n",
      "    accuracy                           0.80       885\n",
      "   macro avg       0.75      0.73      0.74       885\n",
      "weighted avg       0.80      0.80      0.80       885\n",
      "\n"
     ]
    }
   ],
   "source": [
    "ens2 = VotingClassifier(estimators=[('rfc', rfc), ('xbc',xbc)], voting='soft')\n",
    "ens2.fit(X_train, y_train)\n",
    "\n",
    "y_pred = ens2.predict(X_test)\n",
    "print(\"Voting Classifier Accuracy :\",round(accuracy_score(y_test,y_pred)*100,2),\"%\")\n",
    "print(classification_report(y_test,y_pred))"
   ]
  },
  {
   "cell_type": "code",
   "execution_count": 34,
   "metadata": {},
   "outputs": [
    {
     "name": "stdout",
     "output_type": "stream",
     "text": [
      "XGBoost\n",
      "[[0.76760563 0.12676056 0.1056338 ]\n",
      " [0.21192053 0.53642384 0.25165563]\n",
      " [0.03555556 0.06666667 0.89777778]]\n",
      "Random Forest\n",
      "[[0.76408451 0.12323944 0.11267606]\n",
      " [0.20529801 0.58278146 0.21192053]\n",
      " [0.02       0.06222222 0.91777778]]\n",
      "VotingClassifier\n",
      "[[0.76408451 0.13028169 0.1056338 ]\n",
      " [0.22516556 0.52317881 0.25165563]\n",
      " [0.01777778 0.06666667 0.91555556]]\n"
     ]
    },
    {
     "data": {
      "image/png": "[encoded data removed]",
      "text/plain": [
       "<Figure size 640x480 with 2 Axes>"
      ]
     },
     "metadata": {},
     "output_type": "display_data"
    },
    {
     "data": {
      "image/png": "[encoded data removed]",
      "text/plain": [
       "<Figure size 640x480 with 2 Axes>"
      ]
     },
     "metadata": {},
     "output_type": "display_data"
    },
    {
     "data": {
      "image/png": "[encoded data removed]",
      "text/plain": [
       "<Figure size 640x480 with 2 Axes>"
      ]
     },
     "metadata": {},
     "output_type": "display_data"
    }
   ],
   "source": [
    "from sklearn.metrics import ConfusionMatrixDisplay\n",
    "titles = [(\"XGBoost\",xbc),(\"Random Forest\",rfc),(\"VotingClassifier\",ens2)]\n",
    "for title, classifier in titles:\n",
    "    disp = ConfusionMatrixDisplay.from_estimator(\n",
    "        classifier,\n",
    "        X_test,\n",
    "        y_test,\n",
    "        display_labels=[\"Dropout\",  \"Enrolled\",  \"Graduate\"],\n",
    "        cmap=plt.cm.Blues,\n",
    "        normalize='true',\n",
    "    )\n",
    "    disp.ax_.set_title(title)\n",
    "\n",
    "    print(title)\n",
    "    print(disp.confusion_matrix)"
   ]
  },
  {
   "cell_type": "code",
   "execution_count": 23,
   "metadata": {},
   "outputs": [
    {
     "name": "stdout",
     "output_type": "stream",
     "text": [
      "Fold 0:\n",
      "Voting Classifier Accuracy : 75.25 %\n",
      "Fold 1:\n",
      "Voting Classifier Accuracy : 79.32 %\n",
      "Fold 2:\n",
      "Voting Classifier Accuracy : 77.85 %\n",
      "Fold 3:\n",
      "Voting Classifier Accuracy : 76.61 %\n",
      "Fold 4:\n",
      "Voting Classifier Accuracy : 75.34 %\n",
      "[75.25, 79.32, 77.85, 76.61, 75.34]\n",
      "76.874\n"
     ]
    }
   ],
   "source": [
    "from sklearn.model_selection import KFold\n",
    "from imblearn.over_sampling import RandomOverSampler\n",
    "from imblearn.under_sampling import RandomUnderSampler\n",
    "from imblearn.pipeline import Pipeline\n",
    "from collections import Counter\n",
    "import numpy as np\n",
    "\n",
    "kf = KFold(n_splits=5)\n",
    "kf.get_n_splits(X)\n",
    "MSE = []\n",
    "Acc = []\n",
    "for i, (train_index, test_index) in enumerate(kf.split(X)):\n",
    "    print(f\"Fold {i}:\")\n",
    "    X_train = X[train_index]\n",
    "    y_train = y[train_index]\n",
    "    X_test = X[test_index]\n",
    "    y_test = y[test_index]\n",
    "    over = SMOTE(sampling_strategy='auto',random_state=21,k_neighbors=3)\n",
    "    under = RandomUnderSampler(sampling_strategy='auto',random_state=21)\n",
    "    pipeline = Pipeline(steps=[('o', over), ('u', under)])\n",
    "    X_train, y_train = pipeline.fit_resample(X_train, y_train)\n",
    "\n",
    "    vc = VotingClassifier(estimators=[('rfc', rfc), ('xbc',xbc)], voting='soft')\n",
    "    vc.fit(X_train, y_train)\n",
    "    \n",
    "\n",
    "    y_pred = vc.predict(X_test)\n",
    "    print(\"Voting Classifier Accuracy :\",round(accuracy_score(y_test,y_pred)*100,2),\"%\")\n",
    "    Acc.append(round(accuracy_score(y_test,y_pred)*100,2))\n",
    "print(Acc)\n",
    "print(sum(Acc)/len(Acc))\n"
   ]
  },
  {
   "cell_type": "code",
   "execution_count": null,
   "metadata": {},
   "outputs": [],
   "source": []
  }
 ],
 "metadata": {
  "kernelspec": {
   "display_name": "Python 3",
   "language": "python",
   "name": "python3"
  },
  "language_info": {
   "codemirror_mode": {
    "name": "ipython",
    "version": 3
   },
   "file_extension": ".py",
   "mimetype": "text/x-python",
   "name": "python",
   "nbconvert_exporter": "python",
   "pygments_lexer": "ipython3",
   "version": "3.9.6"
  }
 },
 "nbformat": 4,
 "nbformat_minor": 2
}
